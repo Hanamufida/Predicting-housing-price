{
  "nbformat": 4,
  "nbformat_minor": 0,
  "metadata": {
    "colab": {
      "name": "HW_REGRESSION_Hana Mufida Nur A.ipynb",
      "provenance": []
    },
    "kernelspec": {
      "name": "python3",
      "display_name": "Python 3"
    },
    "language_info": {
      "name": "python"
    }
  },
  "cells": [
    {
      "cell_type": "code",
      "execution_count": 1,
      "metadata": {
        "id": "B_CkqAwb-lfF"
      },
      "outputs": [],
      "source": [
        "# import libraries\n",
        "import numpy as np\n",
        "import pandas as pd\n",
        "import seaborn as sns\n",
        "import matplotlib.pyplot as plt"
      ]
    },
    {
      "cell_type": "code",
      "source": [
        "boston = pd.read_csv('/content/boston.csv')\n",
        "boston.head()"
      ],
      "metadata": {
        "colab": {
          "base_uri": "https://localhost:8080/",
          "height": 206
        },
        "id": "f2tu-dQM-sUG",
        "outputId": "6c3e8a24-ca8f-4dc5-a953-7685d6b7df9c"
      },
      "execution_count": 2,
      "outputs": [
        {
          "output_type": "execute_result",
          "data": {
            "text/plain": [
              "      crim    zn  indus  chas    nox     rm   age     dis  rad  tax  ptratio  \\\n",
              "0  0.00632  18.0   2.31     0  0.538  6.575  65.2  4.0900    1  296     15.3   \n",
              "1  0.02731   0.0   7.07     0  0.469  6.421  78.9  4.9671    2  242     17.8   \n",
              "2  0.02729   0.0   7.07     0  0.469  7.185  61.1  4.9671    2  242     17.8   \n",
              "3  0.03237   0.0   2.18     0  0.458  6.998  45.8  6.0622    3  222     18.7   \n",
              "4  0.06905   0.0   2.18     0  0.458  7.147  54.2  6.0622    3  222     18.7   \n",
              "\n",
              "    black  lstat  medv  \n",
              "0  396.90   4.98  24.0  \n",
              "1  396.90   9.14  21.6  \n",
              "2  392.83   4.03  34.7  \n",
              "3  394.63   2.94  33.4  \n",
              "4  396.90   5.33  36.2  "
            ],
            "text/html": [
              "\n",
              "  <div id=\"df-e3e84494-82c1-49a0-996f-e7c2e33faa0c\">\n",
              "    <div class=\"colab-df-container\">\n",
              "      <div>\n",
              "<style scoped>\n",
              "    .dataframe tbody tr th:only-of-type {\n",
              "        vertical-align: middle;\n",
              "    }\n",
              "\n",
              "    .dataframe tbody tr th {\n",
              "        vertical-align: top;\n",
              "    }\n",
              "\n",
              "    .dataframe thead th {\n",
              "        text-align: right;\n",
              "    }\n",
              "</style>\n",
              "<table border=\"1\" class=\"dataframe\">\n",
              "  <thead>\n",
              "    <tr style=\"text-align: right;\">\n",
              "      <th></th>\n",
              "      <th>crim</th>\n",
              "      <th>zn</th>\n",
              "      <th>indus</th>\n",
              "      <th>chas</th>\n",
              "      <th>nox</th>\n",
              "      <th>rm</th>\n",
              "      <th>age</th>\n",
              "      <th>dis</th>\n",
              "      <th>rad</th>\n",
              "      <th>tax</th>\n",
              "      <th>ptratio</th>\n",
              "      <th>black</th>\n",
              "      <th>lstat</th>\n",
              "      <th>medv</th>\n",
              "    </tr>\n",
              "  </thead>\n",
              "  <tbody>\n",
              "    <tr>\n",
              "      <th>0</th>\n",
              "      <td>0.00632</td>\n",
              "      <td>18.0</td>\n",
              "      <td>2.31</td>\n",
              "      <td>0</td>\n",
              "      <td>0.538</td>\n",
              "      <td>6.575</td>\n",
              "      <td>65.2</td>\n",
              "      <td>4.0900</td>\n",
              "      <td>1</td>\n",
              "      <td>296</td>\n",
              "      <td>15.3</td>\n",
              "      <td>396.90</td>\n",
              "      <td>4.98</td>\n",
              "      <td>24.0</td>\n",
              "    </tr>\n",
              "    <tr>\n",
              "      <th>1</th>\n",
              "      <td>0.02731</td>\n",
              "      <td>0.0</td>\n",
              "      <td>7.07</td>\n",
              "      <td>0</td>\n",
              "      <td>0.469</td>\n",
              "      <td>6.421</td>\n",
              "      <td>78.9</td>\n",
              "      <td>4.9671</td>\n",
              "      <td>2</td>\n",
              "      <td>242</td>\n",
              "      <td>17.8</td>\n",
              "      <td>396.90</td>\n",
              "      <td>9.14</td>\n",
              "      <td>21.6</td>\n",
              "    </tr>\n",
              "    <tr>\n",
              "      <th>2</th>\n",
              "      <td>0.02729</td>\n",
              "      <td>0.0</td>\n",
              "      <td>7.07</td>\n",
              "      <td>0</td>\n",
              "      <td>0.469</td>\n",
              "      <td>7.185</td>\n",
              "      <td>61.1</td>\n",
              "      <td>4.9671</td>\n",
              "      <td>2</td>\n",
              "      <td>242</td>\n",
              "      <td>17.8</td>\n",
              "      <td>392.83</td>\n",
              "      <td>4.03</td>\n",
              "      <td>34.7</td>\n",
              "    </tr>\n",
              "    <tr>\n",
              "      <th>3</th>\n",
              "      <td>0.03237</td>\n",
              "      <td>0.0</td>\n",
              "      <td>2.18</td>\n",
              "      <td>0</td>\n",
              "      <td>0.458</td>\n",
              "      <td>6.998</td>\n",
              "      <td>45.8</td>\n",
              "      <td>6.0622</td>\n",
              "      <td>3</td>\n",
              "      <td>222</td>\n",
              "      <td>18.7</td>\n",
              "      <td>394.63</td>\n",
              "      <td>2.94</td>\n",
              "      <td>33.4</td>\n",
              "    </tr>\n",
              "    <tr>\n",
              "      <th>4</th>\n",
              "      <td>0.06905</td>\n",
              "      <td>0.0</td>\n",
              "      <td>2.18</td>\n",
              "      <td>0</td>\n",
              "      <td>0.458</td>\n",
              "      <td>7.147</td>\n",
              "      <td>54.2</td>\n",
              "      <td>6.0622</td>\n",
              "      <td>3</td>\n",
              "      <td>222</td>\n",
              "      <td>18.7</td>\n",
              "      <td>396.90</td>\n",
              "      <td>5.33</td>\n",
              "      <td>36.2</td>\n",
              "    </tr>\n",
              "  </tbody>\n",
              "</table>\n",
              "</div>\n",
              "      <button class=\"colab-df-convert\" onclick=\"convertToInteractive('df-e3e84494-82c1-49a0-996f-e7c2e33faa0c')\"\n",
              "              title=\"Convert this dataframe to an interactive table.\"\n",
              "              style=\"display:none;\">\n",
              "        \n",
              "  <svg xmlns=\"http://www.w3.org/2000/svg\" height=\"24px\"viewBox=\"0 0 24 24\"\n",
              "       width=\"24px\">\n",
              "    <path d=\"M0 0h24v24H0V0z\" fill=\"none\"/>\n",
              "    <path d=\"M18.56 5.44l.94 2.06.94-2.06 2.06-.94-2.06-.94-.94-2.06-.94 2.06-2.06.94zm-11 1L8.5 8.5l.94-2.06 2.06-.94-2.06-.94L8.5 2.5l-.94 2.06-2.06.94zm10 10l.94 2.06.94-2.06 2.06-.94-2.06-.94-.94-2.06-.94 2.06-2.06.94z\"/><path d=\"M17.41 7.96l-1.37-1.37c-.4-.4-.92-.59-1.43-.59-.52 0-1.04.2-1.43.59L10.3 9.45l-7.72 7.72c-.78.78-.78 2.05 0 2.83L4 21.41c.39.39.9.59 1.41.59.51 0 1.02-.2 1.41-.59l7.78-7.78 2.81-2.81c.8-.78.8-2.07 0-2.86zM5.41 20L4 18.59l7.72-7.72 1.47 1.35L5.41 20z\"/>\n",
              "  </svg>\n",
              "      </button>\n",
              "      \n",
              "  <style>\n",
              "    .colab-df-container {\n",
              "      display:flex;\n",
              "      flex-wrap:wrap;\n",
              "      gap: 12px;\n",
              "    }\n",
              "\n",
              "    .colab-df-convert {\n",
              "      background-color: #E8F0FE;\n",
              "      border: none;\n",
              "      border-radius: 50%;\n",
              "      cursor: pointer;\n",
              "      display: none;\n",
              "      fill: #1967D2;\n",
              "      height: 32px;\n",
              "      padding: 0 0 0 0;\n",
              "      width: 32px;\n",
              "    }\n",
              "\n",
              "    .colab-df-convert:hover {\n",
              "      background-color: #E2EBFA;\n",
              "      box-shadow: 0px 1px 2px rgba(60, 64, 67, 0.3), 0px 1px 3px 1px rgba(60, 64, 67, 0.15);\n",
              "      fill: #174EA6;\n",
              "    }\n",
              "\n",
              "    [theme=dark] .colab-df-convert {\n",
              "      background-color: #3B4455;\n",
              "      fill: #D2E3FC;\n",
              "    }\n",
              "\n",
              "    [theme=dark] .colab-df-convert:hover {\n",
              "      background-color: #434B5C;\n",
              "      box-shadow: 0px 1px 3px 1px rgba(0, 0, 0, 0.15);\n",
              "      filter: drop-shadow(0px 1px 2px rgba(0, 0, 0, 0.3));\n",
              "      fill: #FFFFFF;\n",
              "    }\n",
              "  </style>\n",
              "\n",
              "      <script>\n",
              "        const buttonEl =\n",
              "          document.querySelector('#df-e3e84494-82c1-49a0-996f-e7c2e33faa0c button.colab-df-convert');\n",
              "        buttonEl.style.display =\n",
              "          google.colab.kernel.accessAllowed ? 'block' : 'none';\n",
              "\n",
              "        async function convertToInteractive(key) {\n",
              "          const element = document.querySelector('#df-e3e84494-82c1-49a0-996f-e7c2e33faa0c');\n",
              "          const dataTable =\n",
              "            await google.colab.kernel.invokeFunction('convertToInteractive',\n",
              "                                                     [key], {});\n",
              "          if (!dataTable) return;\n",
              "\n",
              "          const docLinkHtml = 'Like what you see? Visit the ' +\n",
              "            '<a target=\"_blank\" href=https://colab.research.google.com/notebooks/data_table.ipynb>data table notebook</a>'\n",
              "            + ' to learn more about interactive tables.';\n",
              "          element.innerHTML = '';\n",
              "          dataTable['output_type'] = 'display_data';\n",
              "          await google.colab.output.renderOutput(dataTable, element);\n",
              "          const docLink = document.createElement('div');\n",
              "          docLink.innerHTML = docLinkHtml;\n",
              "          element.appendChild(docLink);\n",
              "        }\n",
              "      </script>\n",
              "    </div>\n",
              "  </div>\n",
              "  "
            ]
          },
          "metadata": {},
          "execution_count": 2
        }
      ]
    },
    {
      "cell_type": "markdown",
      "source": [
        "split train test"
      ],
      "metadata": {
        "id": "Nsihj8Jg_NH1"
      }
    },
    {
      "cell_type": "code",
      "source": [
        "from sklearn.model_selection import train_test_split\n",
        "\n",
        "feature = boston.drop(columns='medv')\n",
        "target = boston[['medv']]\n",
        "\n",
        "feature_boston_train, feature_boston_test, target_boston_train, target_boston_test = train_test_split(feature, target, test_size=0.20, random_state=42)"
      ],
      "metadata": {
        "id": "_3moMPXtnJ8z"
      },
      "execution_count": 4,
      "outputs": []
    },
    {
      "cell_type": "code",
      "source": [
        "# calculate VIF scores\n",
        "from statsmodels.stats.outliers_influence import variance_inflation_factor as vif \n",
        "from statsmodels.tools.tools import add_constant\n",
        "\n",
        "X = add_constant(feature_boston_train)\n",
        "\n",
        "vif_df = pd.DataFrame([vif(X.values, i) \n",
        "               for i in range(X.shape[1])], \n",
        "              index=X.columns).reset_index()\n",
        "vif_df.columns = ['feature','vif_score']\n",
        "vif_df = vif_df.loc[vif_df.feature!='const']\n",
        "vif_df"
      ],
      "metadata": {
        "colab": {
          "base_uri": "https://localhost:8080/",
          "height": 512
        },
        "id": "a4FMyfQD_iRl",
        "outputId": "3b8586c5-5b41-4548-b338-95d439a0c964"
      },
      "execution_count": 5,
      "outputs": [
        {
          "output_type": "stream",
          "name": "stderr",
          "text": [
            "/usr/local/lib/python3.7/dist-packages/statsmodels/tsa/tsatools.py:117: FutureWarning: In a future version of pandas all arguments of concat except for the argument 'objs' will be keyword-only\n",
            "  x = pd.concat(x[::order], 1)\n"
          ]
        },
        {
          "output_type": "execute_result",
          "data": {
            "text/plain": [
              "    feature  vif_score\n",
              "1      crim   1.713187\n",
              "2        zn   2.465631\n",
              "3     indus   3.877855\n",
              "4      chas   1.096674\n",
              "5       nox   4.469150\n",
              "6        rm   1.947809\n",
              "7       age   2.989948\n",
              "8       dis   4.168578\n",
              "9       rad   7.658316\n",
              "10      tax   8.943301\n",
              "11  ptratio   1.851448\n",
              "12    black   1.325121\n",
              "13    lstat   2.818045"
            ],
            "text/html": [
              "\n",
              "  <div id=\"df-952586f8-cbea-4ada-91af-380f7efac130\">\n",
              "    <div class=\"colab-df-container\">\n",
              "      <div>\n",
              "<style scoped>\n",
              "    .dataframe tbody tr th:only-of-type {\n",
              "        vertical-align: middle;\n",
              "    }\n",
              "\n",
              "    .dataframe tbody tr th {\n",
              "        vertical-align: top;\n",
              "    }\n",
              "\n",
              "    .dataframe thead th {\n",
              "        text-align: right;\n",
              "    }\n",
              "</style>\n",
              "<table border=\"1\" class=\"dataframe\">\n",
              "  <thead>\n",
              "    <tr style=\"text-align: right;\">\n",
              "      <th></th>\n",
              "      <th>feature</th>\n",
              "      <th>vif_score</th>\n",
              "    </tr>\n",
              "  </thead>\n",
              "  <tbody>\n",
              "    <tr>\n",
              "      <th>1</th>\n",
              "      <td>crim</td>\n",
              "      <td>1.713187</td>\n",
              "    </tr>\n",
              "    <tr>\n",
              "      <th>2</th>\n",
              "      <td>zn</td>\n",
              "      <td>2.465631</td>\n",
              "    </tr>\n",
              "    <tr>\n",
              "      <th>3</th>\n",
              "      <td>indus</td>\n",
              "      <td>3.877855</td>\n",
              "    </tr>\n",
              "    <tr>\n",
              "      <th>4</th>\n",
              "      <td>chas</td>\n",
              "      <td>1.096674</td>\n",
              "    </tr>\n",
              "    <tr>\n",
              "      <th>5</th>\n",
              "      <td>nox</td>\n",
              "      <td>4.469150</td>\n",
              "    </tr>\n",
              "    <tr>\n",
              "      <th>6</th>\n",
              "      <td>rm</td>\n",
              "      <td>1.947809</td>\n",
              "    </tr>\n",
              "    <tr>\n",
              "      <th>7</th>\n",
              "      <td>age</td>\n",
              "      <td>2.989948</td>\n",
              "    </tr>\n",
              "    <tr>\n",
              "      <th>8</th>\n",
              "      <td>dis</td>\n",
              "      <td>4.168578</td>\n",
              "    </tr>\n",
              "    <tr>\n",
              "      <th>9</th>\n",
              "      <td>rad</td>\n",
              "      <td>7.658316</td>\n",
              "    </tr>\n",
              "    <tr>\n",
              "      <th>10</th>\n",
              "      <td>tax</td>\n",
              "      <td>8.943301</td>\n",
              "    </tr>\n",
              "    <tr>\n",
              "      <th>11</th>\n",
              "      <td>ptratio</td>\n",
              "      <td>1.851448</td>\n",
              "    </tr>\n",
              "    <tr>\n",
              "      <th>12</th>\n",
              "      <td>black</td>\n",
              "      <td>1.325121</td>\n",
              "    </tr>\n",
              "    <tr>\n",
              "      <th>13</th>\n",
              "      <td>lstat</td>\n",
              "      <td>2.818045</td>\n",
              "    </tr>\n",
              "  </tbody>\n",
              "</table>\n",
              "</div>\n",
              "      <button class=\"colab-df-convert\" onclick=\"convertToInteractive('df-952586f8-cbea-4ada-91af-380f7efac130')\"\n",
              "              title=\"Convert this dataframe to an interactive table.\"\n",
              "              style=\"display:none;\">\n",
              "        \n",
              "  <svg xmlns=\"http://www.w3.org/2000/svg\" height=\"24px\"viewBox=\"0 0 24 24\"\n",
              "       width=\"24px\">\n",
              "    <path d=\"M0 0h24v24H0V0z\" fill=\"none\"/>\n",
              "    <path d=\"M18.56 5.44l.94 2.06.94-2.06 2.06-.94-2.06-.94-.94-2.06-.94 2.06-2.06.94zm-11 1L8.5 8.5l.94-2.06 2.06-.94-2.06-.94L8.5 2.5l-.94 2.06-2.06.94zm10 10l.94 2.06.94-2.06 2.06-.94-2.06-.94-.94-2.06-.94 2.06-2.06.94z\"/><path d=\"M17.41 7.96l-1.37-1.37c-.4-.4-.92-.59-1.43-.59-.52 0-1.04.2-1.43.59L10.3 9.45l-7.72 7.72c-.78.78-.78 2.05 0 2.83L4 21.41c.39.39.9.59 1.41.59.51 0 1.02-.2 1.41-.59l7.78-7.78 2.81-2.81c.8-.78.8-2.07 0-2.86zM5.41 20L4 18.59l7.72-7.72 1.47 1.35L5.41 20z\"/>\n",
              "  </svg>\n",
              "      </button>\n",
              "      \n",
              "  <style>\n",
              "    .colab-df-container {\n",
              "      display:flex;\n",
              "      flex-wrap:wrap;\n",
              "      gap: 12px;\n",
              "    }\n",
              "\n",
              "    .colab-df-convert {\n",
              "      background-color: #E8F0FE;\n",
              "      border: none;\n",
              "      border-radius: 50%;\n",
              "      cursor: pointer;\n",
              "      display: none;\n",
              "      fill: #1967D2;\n",
              "      height: 32px;\n",
              "      padding: 0 0 0 0;\n",
              "      width: 32px;\n",
              "    }\n",
              "\n",
              "    .colab-df-convert:hover {\n",
              "      background-color: #E2EBFA;\n",
              "      box-shadow: 0px 1px 2px rgba(60, 64, 67, 0.3), 0px 1px 3px 1px rgba(60, 64, 67, 0.15);\n",
              "      fill: #174EA6;\n",
              "    }\n",
              "\n",
              "    [theme=dark] .colab-df-convert {\n",
              "      background-color: #3B4455;\n",
              "      fill: #D2E3FC;\n",
              "    }\n",
              "\n",
              "    [theme=dark] .colab-df-convert:hover {\n",
              "      background-color: #434B5C;\n",
              "      box-shadow: 0px 1px 3px 1px rgba(0, 0, 0, 0.15);\n",
              "      filter: drop-shadow(0px 1px 2px rgba(0, 0, 0, 0.3));\n",
              "      fill: #FFFFFF;\n",
              "    }\n",
              "  </style>\n",
              "\n",
              "      <script>\n",
              "        const buttonEl =\n",
              "          document.querySelector('#df-952586f8-cbea-4ada-91af-380f7efac130 button.colab-df-convert');\n",
              "        buttonEl.style.display =\n",
              "          google.colab.kernel.accessAllowed ? 'block' : 'none';\n",
              "\n",
              "        async function convertToInteractive(key) {\n",
              "          const element = document.querySelector('#df-952586f8-cbea-4ada-91af-380f7efac130');\n",
              "          const dataTable =\n",
              "            await google.colab.kernel.invokeFunction('convertToInteractive',\n",
              "                                                     [key], {});\n",
              "          if (!dataTable) return;\n",
              "\n",
              "          const docLinkHtml = 'Like what you see? Visit the ' +\n",
              "            '<a target=\"_blank\" href=https://colab.research.google.com/notebooks/data_table.ipynb>data table notebook</a>'\n",
              "            + ' to learn more about interactive tables.';\n",
              "          element.innerHTML = '';\n",
              "          dataTable['output_type'] = 'display_data';\n",
              "          await google.colab.output.renderOutput(dataTable, element);\n",
              "          const docLink = document.createElement('div');\n",
              "          docLink.innerHTML = docLinkHtml;\n",
              "          element.appendChild(docLink);\n",
              "        }\n",
              "      </script>\n",
              "    </div>\n",
              "  </div>\n",
              "  "
            ]
          },
          "metadata": {},
          "execution_count": 5
        }
      ]
    },
    {
      "cell_type": "markdown",
      "source": [
        "**There** are several features with high VIF scores:\n",
        "1. `tax`\n",
        "2. `rad`\n",
        "3. `nox`\n",
        "4. `dis`\n",
        "5. `indus`"
      ],
      "metadata": {
        "id": "UJ7MyI6NRqUs"
      }
    },
    {
      "cell_type": "code",
      "source": [
        "# heatmap correlation\n",
        "boston_train = pd.concat([feature_boston_train, target_boston_train], axis=1)\n",
        "corr = boston_train.corr()\n",
        "\n",
        "plt.figure(figsize=(10,7))\n",
        "sns.heatmap(corr, annot=True, fmt='.2f')\n",
        "plt.show()"
      ],
      "metadata": {
        "colab": {
          "base_uri": "https://localhost:8080/",
          "height": 432
        },
        "id": "ztNZtwBw_0Sj",
        "outputId": "072ad342-1d9f-4c33-db02-7328c01265a7"
      },
      "execution_count": 6,
      "outputs": [
        {
          "output_type": "display_data",
          "data": {
            "text/plain": [
              "<Figure size 720x504 with 2 Axes>"
            ],
            "image/png": "[encoded data removed]"
          },
          "metadata": {
            "needs_background": "light"
          }
        }
      ]
    },
    {
      "cell_type": "markdown",
      "source": [
        "Based on the heat map result, Researcher choose to retain nox, dis, indus. Therefore, we need to drop:\n",
        "\n",
        "- rad\n",
        "- tax"
      ],
      "metadata": {
        "id": "6eQg_62USAz9"
      }
    },
    {
      "cell_type": "code",
      "source": [
        "# drop redundant features\n",
        "feature_boston_train = feature_boston_train.drop(columns=['nox','tax'])\n",
        "feature_boston_test = feature_boston_test.drop(columns=['nox','tax'])"
      ],
      "metadata": {
        "id": "s2AynWVoAluz"
      },
      "execution_count": 7,
      "outputs": []
    },
    {
      "cell_type": "code",
      "source": [
        "from statsmodels.stats.outliers_influence import variance_inflation_factor as vif \n",
        "from statsmodels.tools.tools import add_constant\n",
        "\n",
        "X = add_constant(feature_boston_train)\n",
        "\n",
        "vif_df = pd.DataFrame([vif(X.values, i) \n",
        "               for i in range(X.shape[1])], \n",
        "              index=X.columns).reset_index()\n",
        "vif_df.columns = ['feature','vif_score']\n",
        "vif_df = vif_df.loc[vif_df.feature!='const']\n",
        "vif_df"
      ],
      "metadata": {
        "colab": {
          "base_uri": "https://localhost:8080/",
          "height": 449
        },
        "id": "9SHnyNNsAtfX",
        "outputId": "1101b72d-26d8-49a2-feb8-abf8fb0d52a2"
      },
      "execution_count": 8,
      "outputs": [
        {
          "output_type": "stream",
          "name": "stderr",
          "text": [
            "/usr/local/lib/python3.7/dist-packages/statsmodels/tsa/tsatools.py:117: FutureWarning: In a future version of pandas all arguments of concat except for the argument 'objs' will be keyword-only\n",
            "  x = pd.concat(x[::order], 1)\n"
          ]
        },
        {
          "output_type": "execute_result",
          "data": {
            "text/plain": [
              "    feature  vif_score\n",
              "1      crim   1.705337\n",
              "2        zn   2.267826\n",
              "3     indus   2.908721\n",
              "4      chas   1.079183\n",
              "5        rm   1.920317\n",
              "6       age   2.818560\n",
              "7       dis   3.847355\n",
              "8       rad   2.570792\n",
              "9   ptratio   1.626674\n",
              "10    black   1.318780\n",
              "11    lstat   2.777393"
            ],
            "text/html": [
              "\n",
              "  <div id=\"df-9ac00c52-98fa-4c2d-b12a-573a5c45550f\">\n",
              "    <div class=\"colab-df-container\">\n",
              "      <div>\n",
              "<style scoped>\n",
              "    .dataframe tbody tr th:only-of-type {\n",
              "        vertical-align: middle;\n",
              "    }\n",
              "\n",
              "    .dataframe tbody tr th {\n",
              "        vertical-align: top;\n",
              "    }\n",
              "\n",
              "    .dataframe thead th {\n",
              "        text-align: right;\n",
              "    }\n",
              "</style>\n",
              "<table border=\"1\" class=\"dataframe\">\n",
              "  <thead>\n",
              "    <tr style=\"text-align: right;\">\n",
              "      <th></th>\n",
              "      <th>feature</th>\n",
              "      <th>vif_score</th>\n",
              "    </tr>\n",
              "  </thead>\n",
              "  <tbody>\n",
              "    <tr>\n",
              "      <th>1</th>\n",
              "      <td>crim</td>\n",
              "      <td>1.705337</td>\n",
              "    </tr>\n",
              "    <tr>\n",
              "      <th>2</th>\n",
              "      <td>zn</td>\n",
              "      <td>2.267826</td>\n",
              "    </tr>\n",
              "    <tr>\n",
              "      <th>3</th>\n",
              "      <td>indus</td>\n",
              "      <td>2.908721</td>\n",
              "    </tr>\n",
              "    <tr>\n",
              "      <th>4</th>\n",
              "      <td>chas</td>\n",
              "      <td>1.079183</td>\n",
              "    </tr>\n",
              "    <tr>\n",
              "      <th>5</th>\n",
              "      <td>rm</td>\n",
              "      <td>1.920317</td>\n",
              "    </tr>\n",
              "    <tr>\n",
              "      <th>6</th>\n",
              "      <td>age</td>\n",
              "      <td>2.818560</td>\n",
              "    </tr>\n",
              "    <tr>\n",
              "      <th>7</th>\n",
              "      <td>dis</td>\n",
              "      <td>3.847355</td>\n",
              "    </tr>\n",
              "    <tr>\n",
              "      <th>8</th>\n",
              "      <td>rad</td>\n",
              "      <td>2.570792</td>\n",
              "    </tr>\n",
              "    <tr>\n",
              "      <th>9</th>\n",
              "      <td>ptratio</td>\n",
              "      <td>1.626674</td>\n",
              "    </tr>\n",
              "    <tr>\n",
              "      <th>10</th>\n",
              "      <td>black</td>\n",
              "      <td>1.318780</td>\n",
              "    </tr>\n",
              "    <tr>\n",
              "      <th>11</th>\n",
              "      <td>lstat</td>\n",
              "      <td>2.777393</td>\n",
              "    </tr>\n",
              "  </tbody>\n",
              "</table>\n",
              "</div>\n",
              "      <button class=\"colab-df-convert\" onclick=\"convertToInteractive('df-9ac00c52-98fa-4c2d-b12a-573a5c45550f')\"\n",
              "              title=\"Convert this dataframe to an interactive table.\"\n",
              "              style=\"display:none;\">\n",
              "        \n",
              "  <svg xmlns=\"http://www.w3.org/2000/svg\" height=\"24px\"viewBox=\"0 0 24 24\"\n",
              "       width=\"24px\">\n",
              "    <path d=\"M0 0h24v24H0V0z\" fill=\"none\"/>\n",
              "    <path d=\"M18.56 5.44l.94 2.06.94-2.06 2.06-.94-2.06-.94-.94-2.06-.94 2.06-2.06.94zm-11 1L8.5 8.5l.94-2.06 2.06-.94-2.06-.94L8.5 2.5l-.94 2.06-2.06.94zm10 10l.94 2.06.94-2.06 2.06-.94-2.06-.94-.94-2.06-.94 2.06-2.06.94z\"/><path d=\"M17.41 7.96l-1.37-1.37c-.4-.4-.92-.59-1.43-.59-.52 0-1.04.2-1.43.59L10.3 9.45l-7.72 7.72c-.78.78-.78 2.05 0 2.83L4 21.41c.39.39.9.59 1.41.59.51 0 1.02-.2 1.41-.59l7.78-7.78 2.81-2.81c.8-.78.8-2.07 0-2.86zM5.41 20L4 18.59l7.72-7.72 1.47 1.35L5.41 20z\"/>\n",
              "  </svg>\n",
              "      </button>\n",
              "      \n",
              "  <style>\n",
              "    .colab-df-container {\n",
              "      display:flex;\n",
              "      flex-wrap:wrap;\n",
              "      gap: 12px;\n",
              "    }\n",
              "\n",
              "    .colab-df-convert {\n",
              "      background-color: #E8F0FE;\n",
              "      border: none;\n",
              "      border-radius: 50%;\n",
              "      cursor: pointer;\n",
              "      display: none;\n",
              "      fill: #1967D2;\n",
              "      height: 32px;\n",
              "      padding: 0 0 0 0;\n",
              "      width: 32px;\n",
              "    }\n",
              "\n",
              "    .colab-df-convert:hover {\n",
              "      background-color: #E2EBFA;\n",
              "      box-shadow: 0px 1px 2px rgba(60, 64, 67, 0.3), 0px 1px 3px 1px rgba(60, 64, 67, 0.15);\n",
              "      fill: #174EA6;\n",
              "    }\n",
              "\n",
              "    [theme=dark] .colab-df-convert {\n",
              "      background-color: #3B4455;\n",
              "      fill: #D2E3FC;\n",
              "    }\n",
              "\n",
              "    [theme=dark] .colab-df-convert:hover {\n",
              "      background-color: #434B5C;\n",
              "      box-shadow: 0px 1px 3px 1px rgba(0, 0, 0, 0.15);\n",
              "      filter: drop-shadow(0px 1px 2px rgba(0, 0, 0, 0.3));\n",
              "      fill: #FFFFFF;\n",
              "    }\n",
              "  </style>\n",
              "\n",
              "      <script>\n",
              "        const buttonEl =\n",
              "          document.querySelector('#df-9ac00c52-98fa-4c2d-b12a-573a5c45550f button.colab-df-convert');\n",
              "        buttonEl.style.display =\n",
              "          google.colab.kernel.accessAllowed ? 'block' : 'none';\n",
              "\n",
              "        async function convertToInteractive(key) {\n",
              "          const element = document.querySelector('#df-9ac00c52-98fa-4c2d-b12a-573a5c45550f');\n",
              "          const dataTable =\n",
              "            await google.colab.kernel.invokeFunction('convertToInteractive',\n",
              "                                                     [key], {});\n",
              "          if (!dataTable) return;\n",
              "\n",
              "          const docLinkHtml = 'Like what you see? Visit the ' +\n",
              "            '<a target=\"_blank\" href=https://colab.research.google.com/notebooks/data_table.ipynb>data table notebook</a>'\n",
              "            + ' to learn more about interactive tables.';\n",
              "          element.innerHTML = '';\n",
              "          dataTable['output_type'] = 'display_data';\n",
              "          await google.colab.output.renderOutput(dataTable, element);\n",
              "          const docLink = document.createElement('div');\n",
              "          docLink.innerHTML = docLinkHtml;\n",
              "          element.appendChild(docLink);\n",
              "        }\n",
              "      </script>\n",
              "    </div>\n",
              "  </div>\n",
              "  "
            ]
          },
          "metadata": {},
          "execution_count": 8
        }
      ]
    },
    {
      "cell_type": "markdown",
      "source": [
        "The variable that has the highest VIF has been dropped"
      ],
      "metadata": {
        "id": "djr9rqaQgf7V"
      }
    },
    {
      "cell_type": "code",
      "source": [
        "# heatmap correlation\n",
        "boston_train = pd.concat([feature_boston_train, target_boston_train], axis=1)\n",
        "corr = boston_train.corr()\n",
        "\n",
        "plt.figure(figsize=(10,7))\n",
        "sns.heatmap(corr, annot=True, fmt='.2f')\n",
        "plt.show()"
      ],
      "metadata": {
        "colab": {
          "base_uri": "https://localhost:8080/",
          "height": 432
        },
        "id": "GLBsmXE4A8Ai",
        "outputId": "88647056-8ed7-4ce8-d033-c16643d6ed68"
      },
      "execution_count": 9,
      "outputs": [
        {
          "output_type": "display_data",
          "data": {
            "text/plain": [
              "<Figure size 720x504 with 2 Axes>"
            ],
            "image/png": "[encoded data removed]"
          },
          "metadata": {
            "needs_background": "light"
          }
        }
      ]
    },
    {
      "cell_type": "markdown",
      "source": [
        "Choose the best lambda"
      ],
      "metadata": {
        "id": "6HBk2wgDBWxz"
      }
    },
    {
      "cell_type": "code",
      "source": [
        "# split train test\n",
        "from sklearn.model_selection import train_test_split\n",
        "\n",
        "feature = boston.drop(columns='medv')\n",
        "target = boston[['medv']]\n",
        "\n",
        "feature_boston_pretrain, feature_boston_test, target_boston_pretrain, target_boston_test = train_test_split(feature, target, test_size=0.20, random_state=42)\n",
        "\n",
        "feature_boston_train, feature_boston_validation, target_boston_train, target_boston_validation = train_test_split(feature_boston_pretrain, target_boston_pretrain, test_size=0.20, random_state=42)"
      ],
      "metadata": {
        "id": "AO9zPLeOBFnw"
      },
      "execution_count": 10,
      "outputs": []
    },
    {
      "cell_type": "code",
      "source": [
        "feature_boston_train = feature_boston_train.drop(columns=['nox','tax'])\n",
        "feature_boston_validation = feature_boston_validation.drop(columns=['nox','tax'])\n",
        "feature_boston_test = feature_boston_test.drop(columns=['nox','tax'])"
      ],
      "metadata": {
        "id": "KFKRn0wMBi4I"
      },
      "execution_count": 11,
      "outputs": []
    },
    {
      "cell_type": "code",
      "source": [
        "from sklearn.linear_model import Ridge\n",
        "\n",
        "# train the model\n",
        "X_boston_train = feature_boston_train.to_numpy()\n",
        "y_boston_train = target_boston_train.to_numpy()\n",
        "y_boston_train = y_boston_train.reshape(len(y_boston_train),)\n",
        "\n",
        "# define the model\n",
        "ridge_reg_pointzeroone = Ridge(alpha=0.01, random_state=42)\n",
        "ridge_reg_pointone = Ridge(alpha=0.1, random_state=42)\n",
        "ridge_reg_one = Ridge(alpha=1, random_state=42)\n",
        "ridge_reg_ten = Ridge(alpha=10, random_state=42)\n",
        "\n",
        "# fit the model (training)\n",
        "ridge_reg_pointzeroone.fit(X_boston_train, y_boston_train)\n",
        "ridge_reg_pointone.fit(X_boston_train, y_boston_train)\n",
        "ridge_reg_one.fit(X_boston_train, y_boston_train)\n",
        "ridge_reg_ten.fit(X_boston_train, y_boston_train)"
      ],
      "metadata": {
        "colab": {
          "base_uri": "https://localhost:8080/"
        },
        "id": "KGnaktpzBuip",
        "outputId": "24799d17-0f79-4429-9d5e-0aa070c047e6"
      },
      "execution_count": 12,
      "outputs": [
        {
          "output_type": "execute_result",
          "data": {
            "text/plain": [
              "Ridge(alpha=10, random_state=42)"
            ]
          },
          "metadata": {},
          "execution_count": 12
        }
      ]
    },
    {
      "cell_type": "code",
      "source": [
        "from sklearn.metrics import mean_squared_error\n",
        "\n",
        "X_boston_validation = feature_boston_validation.to_numpy()\n",
        "y_boston_validation = target_boston_validation.to_numpy()\n",
        "y_boston_validation = y_boston_validation.reshape(len(y_boston_validation),)\n",
        "\n",
        "alphas = [0.01, 0.1, 1., 10]\n",
        "models = [ridge_reg_pointzeroone,\n",
        "          ridge_reg_pointone,\n",
        "          ridge_reg_one,\n",
        "          ridge_reg_ten]\n",
        "\n",
        "for model, alpha in zip(models, alphas):\n",
        "    y_predict_validation = model.predict(X_boston_validation)\n",
        "    rmse = np.sqrt(mean_squared_error(y_boston_validation,y_predict_validation))\n",
        "    print(f'RMSE of Ridge regression model with alpha = {alpha} is {rmse}')"
      ],
      "metadata": {
        "colab": {
          "base_uri": "https://localhost:8080/"
        },
        "id": "UzVLK9cKB40N",
        "outputId": "75c0ed33-df2d-4871-bcb8-69972f176cc9"
      },
      "execution_count": 13,
      "outputs": [
        {
          "output_type": "stream",
          "name": "stdout",
          "text": [
            "RMSE of Ridge regression model with alpha = 0.01 is 4.9100180836609475\n",
            "RMSE of Ridge regression model with alpha = 0.1 is 4.909341813740431\n",
            "RMSE of Ridge regression model with alpha = 1.0 is 4.902793924301715\n",
            "RMSE of Ridge regression model with alpha = 10 is 4.852554684014988\n"
          ]
        }
      ]
    },
    {
      "cell_type": "markdown",
      "source": [
        "The best lambda (alpha) is 10"
      ],
      "metadata": {
        "id": "PYLuEzGFlcuX"
      }
    },
    {
      "cell_type": "markdown",
      "source": [
        "Lasso"
      ],
      "metadata": {
        "id": "faJQj7rdCJzd"
      }
    },
    {
      "cell_type": "code",
      "source": [
        "from sklearn.linear_model import Lasso\n",
        "\n",
        "# train the model\n",
        "X_boston_train = feature_boston_train.to_numpy()\n",
        "y_boston_train = target_boston_train.to_numpy()\n",
        "y_boston_train = y_boston_train.reshape(len(y_boston_train),)\n",
        "\n",
        "# define the model\n",
        "lasso_reg_pointzeroone = Lasso(alpha=0.01, random_state=42)\n",
        "lasso_reg_pointone = Lasso(alpha=0.1, random_state=42)\n",
        "lasso_reg_one = Lasso(alpha=1, random_state=42)\n",
        "lasso_reg_ten = Lasso(alpha=10, random_state=42)\n",
        "\n",
        "# fit the model (training)\n",
        "lasso_reg_pointzeroone.fit(X_boston_train, y_boston_train)\n",
        "lasso_reg_pointone.fit(X_boston_train, y_boston_train)\n",
        "lasso_reg_one.fit(X_boston_train, y_boston_train)\n",
        "lasso_reg_ten.fit(X_boston_train, y_boston_train)"
      ],
      "metadata": {
        "colab": {
          "base_uri": "https://localhost:8080/"
        },
        "id": "hNBOgEMjCK8c",
        "outputId": "383e91d9-e3b4-4bd2-e4fd-b1dc4c866b56"
      },
      "execution_count": 14,
      "outputs": [
        {
          "output_type": "execute_result",
          "data": {
            "text/plain": [
              "Lasso(alpha=10, random_state=42)"
            ]
          },
          "metadata": {},
          "execution_count": 14
        }
      ]
    },
    {
      "cell_type": "code",
      "source": [
        "from sklearn.metrics import mean_squared_error\n",
        "\n",
        "X_boston_validation = feature_boston_validation.to_numpy()\n",
        "y_boston_validation = target_boston_validation.to_numpy()\n",
        "y_boston_validation = y_boston_validation.reshape(len(y_boston_validation),)\n",
        "\n",
        "alphas = [0.01, 0.1, 1., 10]\n",
        "models = [lasso_reg_pointzeroone,\n",
        "          lasso_reg_pointone,\n",
        "          lasso_reg_one,\n",
        "          lasso_reg_ten]\n",
        "\n",
        "for model, alpha in zip(models, alphas):\n",
        "    y_predict_validation = model.predict(X_boston_validation)\n",
        "    rmse = np.sqrt(mean_squared_error(y_boston_validation,y_predict_validation))\n",
        "    print(f'RMSE of lasso regression model with alpha = {alpha} is {rmse}')"
      ],
      "metadata": {
        "colab": {
          "base_uri": "https://localhost:8080/"
        },
        "id": "NIQj-T5vCeJ4",
        "outputId": "d99f758d-bee0-43a5-a7de-878e921e8fe9"
      },
      "execution_count": 15,
      "outputs": [
        {
          "output_type": "stream",
          "name": "stdout",
          "text": [
            "RMSE of lasso regression model with alpha = 0.01 is 4.906171989652139\n",
            "RMSE of lasso regression model with alpha = 0.1 is 4.886477755903591\n",
            "RMSE of lasso regression model with alpha = 1.0 is 4.83300631441224\n",
            "RMSE of lasso regression model with alpha = 10 is 5.436636308051355\n"
          ]
        }
      ]
    },
    {
      "cell_type": "markdown",
      "source": [
        "The bebst lamda or alpha is one\n"
      ],
      "metadata": {
        "id": "L33YwgbZlnBR"
      }
    },
    {
      "cell_type": "markdown",
      "source": [
        "Model evaluation"
      ],
      "metadata": {
        "id": "YWWwuCvzC4-A"
      }
    },
    {
      "cell_type": "code",
      "source": [
        "ridge_best = ridge_reg_ten\n",
        "\n",
        "coef_df = pd.DataFrame({\n",
        "    'feature':['intercept'] + feature_boston_train.columns.tolist(),\n",
        "    'coefficient':[ridge_best.intercept_] + list(ridge_best.coef_)\n",
        "})\n",
        "\n",
        "coef_df"
      ],
      "metadata": {
        "colab": {
          "base_uri": "https://localhost:8080/",
          "height": 426
        },
        "id": "K881YDo7C7i9",
        "outputId": "9a70f5aa-cff0-410b-ae4e-a07a40c35f1e"
      },
      "execution_count": 16,
      "outputs": [
        {
          "output_type": "execute_result",
          "data": {
            "text/plain": [
              "      feature  coefficient\n",
              "0   intercept    14.626838\n",
              "1        crim    -0.098172\n",
              "2          zn     0.028737\n",
              "3       indus    -0.105791\n",
              "4        chas     1.860440\n",
              "5          rm     4.707228\n",
              "6         age    -0.011543\n",
              "7         dis    -1.179954\n",
              "8         rad     0.042378\n",
              "9     ptratio    -0.758341\n",
              "10      black     0.013975\n",
              "11      lstat    -0.539148"
            ],
            "text/html": [
              "\n",
              "  <div id=\"df-a7d4e76c-2872-42aa-8b2e-694c8072bf6f\">\n",
              "    <div class=\"colab-df-container\">\n",
              "      <div>\n",
              "<style scoped>\n",
              "    .dataframe tbody tr th:only-of-type {\n",
              "        vertical-align: middle;\n",
              "    }\n",
              "\n",
              "    .dataframe tbody tr th {\n",
              "        vertical-align: top;\n",
              "    }\n",
              "\n",
              "    .dataframe thead th {\n",
              "        text-align: right;\n",
              "    }\n",
              "</style>\n",
              "<table border=\"1\" class=\"dataframe\">\n",
              "  <thead>\n",
              "    <tr style=\"text-align: right;\">\n",
              "      <th></th>\n",
              "      <th>feature</th>\n",
              "      <th>coefficient</th>\n",
              "    </tr>\n",
              "  </thead>\n",
              "  <tbody>\n",
              "    <tr>\n",
              "      <th>0</th>\n",
              "      <td>intercept</td>\n",
              "      <td>14.626838</td>\n",
              "    </tr>\n",
              "    <tr>\n",
              "      <th>1</th>\n",
              "      <td>crim</td>\n",
              "      <td>-0.098172</td>\n",
              "    </tr>\n",
              "    <tr>\n",
              "      <th>2</th>\n",
              "      <td>zn</td>\n",
              "      <td>0.028737</td>\n",
              "    </tr>\n",
              "    <tr>\n",
              "      <th>3</th>\n",
              "      <td>indus</td>\n",
              "      <td>-0.105791</td>\n",
              "    </tr>\n",
              "    <tr>\n",
              "      <th>4</th>\n",
              "      <td>chas</td>\n",
              "      <td>1.860440</td>\n",
              "    </tr>\n",
              "    <tr>\n",
              "      <th>5</th>\n",
              "      <td>rm</td>\n",
              "      <td>4.707228</td>\n",
              "    </tr>\n",
              "    <tr>\n",
              "      <th>6</th>\n",
              "      <td>age</td>\n",
              "      <td>-0.011543</td>\n",
              "    </tr>\n",
              "    <tr>\n",
              "      <th>7</th>\n",
              "      <td>dis</td>\n",
              "      <td>-1.179954</td>\n",
              "    </tr>\n",
              "    <tr>\n",
              "      <th>8</th>\n",
              "      <td>rad</td>\n",
              "      <td>0.042378</td>\n",
              "    </tr>\n",
              "    <tr>\n",
              "      <th>9</th>\n",
              "      <td>ptratio</td>\n",
              "      <td>-0.758341</td>\n",
              "    </tr>\n",
              "    <tr>\n",
              "      <th>10</th>\n",
              "      <td>black</td>\n",
              "      <td>0.013975</td>\n",
              "    </tr>\n",
              "    <tr>\n",
              "      <th>11</th>\n",
              "      <td>lstat</td>\n",
              "      <td>-0.539148</td>\n",
              "    </tr>\n",
              "  </tbody>\n",
              "</table>\n",
              "</div>\n",
              "      <button class=\"colab-df-convert\" onclick=\"convertToInteractive('df-a7d4e76c-2872-42aa-8b2e-694c8072bf6f')\"\n",
              "              title=\"Convert this dataframe to an interactive table.\"\n",
              "              style=\"display:none;\">\n",
              "        \n",
              "  <svg xmlns=\"http://www.w3.org/2000/svg\" height=\"24px\"viewBox=\"0 0 24 24\"\n",
              "       width=\"24px\">\n",
              "    <path d=\"M0 0h24v24H0V0z\" fill=\"none\"/>\n",
              "    <path d=\"M18.56 5.44l.94 2.06.94-2.06 2.06-.94-2.06-.94-.94-2.06-.94 2.06-2.06.94zm-11 1L8.5 8.5l.94-2.06 2.06-.94-2.06-.94L8.5 2.5l-.94 2.06-2.06.94zm10 10l.94 2.06.94-2.06 2.06-.94-2.06-.94-.94-2.06-.94 2.06-2.06.94z\"/><path d=\"M17.41 7.96l-1.37-1.37c-.4-.4-.92-.59-1.43-.59-.52 0-1.04.2-1.43.59L10.3 9.45l-7.72 7.72c-.78.78-.78 2.05 0 2.83L4 21.41c.39.39.9.59 1.41.59.51 0 1.02-.2 1.41-.59l7.78-7.78 2.81-2.81c.8-.78.8-2.07 0-2.86zM5.41 20L4 18.59l7.72-7.72 1.47 1.35L5.41 20z\"/>\n",
              "  </svg>\n",
              "      </button>\n",
              "      \n",
              "  <style>\n",
              "    .colab-df-container {\n",
              "      display:flex;\n",
              "      flex-wrap:wrap;\n",
              "      gap: 12px;\n",
              "    }\n",
              "\n",
              "    .colab-df-convert {\n",
              "      background-color: #E8F0FE;\n",
              "      border: none;\n",
              "      border-radius: 50%;\n",
              "      cursor: pointer;\n",
              "      display: none;\n",
              "      fill: #1967D2;\n",
              "      height: 32px;\n",
              "      padding: 0 0 0 0;\n",
              "      width: 32px;\n",
              "    }\n",
              "\n",
              "    .colab-df-convert:hover {\n",
              "      background-color: #E2EBFA;\n",
              "      box-shadow: 0px 1px 2px rgba(60, 64, 67, 0.3), 0px 1px 3px 1px rgba(60, 64, 67, 0.15);\n",
              "      fill: #174EA6;\n",
              "    }\n",
              "\n",
              "    [theme=dark] .colab-df-convert {\n",
              "      background-color: #3B4455;\n",
              "      fill: #D2E3FC;\n",
              "    }\n",
              "\n",
              "    [theme=dark] .colab-df-convert:hover {\n",
              "      background-color: #434B5C;\n",
              "      box-shadow: 0px 1px 3px 1px rgba(0, 0, 0, 0.15);\n",
              "      filter: drop-shadow(0px 1px 2px rgba(0, 0, 0, 0.3));\n",
              "      fill: #FFFFFF;\n",
              "    }\n",
              "  </style>\n",
              "\n",
              "      <script>\n",
              "        const buttonEl =\n",
              "          document.querySelector('#df-a7d4e76c-2872-42aa-8b2e-694c8072bf6f button.colab-df-convert');\n",
              "        buttonEl.style.display =\n",
              "          google.colab.kernel.accessAllowed ? 'block' : 'none';\n",
              "\n",
              "        async function convertToInteractive(key) {\n",
              "          const element = document.querySelector('#df-a7d4e76c-2872-42aa-8b2e-694c8072bf6f');\n",
              "          const dataTable =\n",
              "            await google.colab.kernel.invokeFunction('convertToInteractive',\n",
              "                                                     [key], {});\n",
              "          if (!dataTable) return;\n",
              "\n",
              "          const docLinkHtml = 'Like what you see? Visit the ' +\n",
              "            '<a target=\"_blank\" href=https://colab.research.google.com/notebooks/data_table.ipynb>data table notebook</a>'\n",
              "            + ' to learn more about interactive tables.';\n",
              "          element.innerHTML = '';\n",
              "          dataTable['output_type'] = 'display_data';\n",
              "          await google.colab.output.renderOutput(dataTable, element);\n",
              "          const docLink = document.createElement('div');\n",
              "          docLink.innerHTML = docLinkHtml;\n",
              "          element.appendChild(docLink);\n",
              "        }\n",
              "      </script>\n",
              "    </div>\n",
              "  </div>\n",
              "  "
            ]
          },
          "metadata": {},
          "execution_count": 16
        }
      ]
    },
    {
      "cell_type": "markdown",
      "source": [
        "Model Ridge --> medv = 14.626 - 0.098 crim \n",
        "                + 0.028 zn - 0.105 indus \n",
        "                + 1.86 chas + 4.707 rm \n",
        "                - 0.011 age - 1.17 dis \n",
        "                + 0.042 rad - 0.758 pratio \n",
        "                + 0.013 black - 0.539 istat\n",
        "\n",
        "interpret sample of coef:\n",
        "- crim --> one point increase in coef crim can decrease as much as 0.098 point to the model\n"
      ],
      "metadata": {
        "id": "adRIyclkoDCU"
      }
    },
    {
      "cell_type": "code",
      "source": [
        "lasso_best = lasso_reg_one\n",
        "\n",
        "coef_df = pd.DataFrame({\n",
        "    'feature':['intercept'] + feature_boston_train.columns.tolist(),\n",
        "    'coefficient':[lasso_best.intercept_] + list(lasso_best.coef_)\n",
        "})\n",
        "\n",
        "coef_df"
      ],
      "metadata": {
        "colab": {
          "base_uri": "https://localhost:8080/",
          "height": 426
        },
        "id": "h9wC7VIZDFYE",
        "outputId": "6e15ca1d-254c-47d5-f60a-4a7bf681aaa3"
      },
      "execution_count": 25,
      "outputs": [
        {
          "output_type": "execute_result",
          "data": {
            "text/plain": [
              "      feature  coefficient\n",
              "0   intercept    26.245932\n",
              "1        crim    -0.065050\n",
              "2          zn     0.019857\n",
              "3       indus    -0.034062\n",
              "4        chas     0.000000\n",
              "5          rm     2.430126\n",
              "6         age     0.023128\n",
              "7         dis    -0.542674\n",
              "8         rad     0.023055\n",
              "9     ptratio    -0.740235\n",
              "10      black     0.012438\n",
              "11      lstat    -0.723701"
            ],
            "text/html": [
              "\n",
              "  <div id=\"df-e232b109-3e45-4890-b89c-ab26335fa4be\">\n",
              "    <div class=\"colab-df-container\">\n",
              "      <div>\n",
              "<style scoped>\n",
              "    .dataframe tbody tr th:only-of-type {\n",
              "        vertical-align: middle;\n",
              "    }\n",
              "\n",
              "    .dataframe tbody tr th {\n",
              "        vertical-align: top;\n",
              "    }\n",
              "\n",
              "    .dataframe thead th {\n",
              "        text-align: right;\n",
              "    }\n",
              "</style>\n",
              "<table border=\"1\" class=\"dataframe\">\n",
              "  <thead>\n",
              "    <tr style=\"text-align: right;\">\n",
              "      <th></th>\n",
              "      <th>feature</th>\n",
              "      <th>coefficient</th>\n",
              "    </tr>\n",
              "  </thead>\n",
              "  <tbody>\n",
              "    <tr>\n",
              "      <th>0</th>\n",
              "      <td>intercept</td>\n",
              "      <td>26.245932</td>\n",
              "    </tr>\n",
              "    <tr>\n",
              "      <th>1</th>\n",
              "      <td>crim</td>\n",
              "      <td>-0.065050</td>\n",
              "    </tr>\n",
              "    <tr>\n",
              "      <th>2</th>\n",
              "      <td>zn</td>\n",
              "      <td>0.019857</td>\n",
              "    </tr>\n",
              "    <tr>\n",
              "      <th>3</th>\n",
              "      <td>indus</td>\n",
              "      <td>-0.034062</td>\n",
              "    </tr>\n",
              "    <tr>\n",
              "      <th>4</th>\n",
              "      <td>chas</td>\n",
              "      <td>0.000000</td>\n",
              "    </tr>\n",
              "    <tr>\n",
              "      <th>5</th>\n",
              "      <td>rm</td>\n",
              "      <td>2.430126</td>\n",
              "    </tr>\n",
              "    <tr>\n",
              "      <th>6</th>\n",
              "      <td>age</td>\n",
              "      <td>0.023128</td>\n",
              "    </tr>\n",
              "    <tr>\n",
              "      <th>7</th>\n",
              "      <td>dis</td>\n",
              "      <td>-0.542674</td>\n",
              "    </tr>\n",
              "    <tr>\n",
              "      <th>8</th>\n",
              "      <td>rad</td>\n",
              "      <td>0.023055</td>\n",
              "    </tr>\n",
              "    <tr>\n",
              "      <th>9</th>\n",
              "      <td>ptratio</td>\n",
              "      <td>-0.740235</td>\n",
              "    </tr>\n",
              "    <tr>\n",
              "      <th>10</th>\n",
              "      <td>black</td>\n",
              "      <td>0.012438</td>\n",
              "    </tr>\n",
              "    <tr>\n",
              "      <th>11</th>\n",
              "      <td>lstat</td>\n",
              "      <td>-0.723701</td>\n",
              "    </tr>\n",
              "  </tbody>\n",
              "</table>\n",
              "</div>\n",
              "      <button class=\"colab-df-convert\" onclick=\"convertToInteractive('df-e232b109-3e45-4890-b89c-ab26335fa4be')\"\n",
              "              title=\"Convert this dataframe to an interactive table.\"\n",
              "              style=\"display:none;\">\n",
              "        \n",
              "  <svg xmlns=\"http://www.w3.org/2000/svg\" height=\"24px\"viewBox=\"0 0 24 24\"\n",
              "       width=\"24px\">\n",
              "    <path d=\"M0 0h24v24H0V0z\" fill=\"none\"/>\n",
              "    <path d=\"M18.56 5.44l.94 2.06.94-2.06 2.06-.94-2.06-.94-.94-2.06-.94 2.06-2.06.94zm-11 1L8.5 8.5l.94-2.06 2.06-.94-2.06-.94L8.5 2.5l-.94 2.06-2.06.94zm10 10l.94 2.06.94-2.06 2.06-.94-2.06-.94-.94-2.06-.94 2.06-2.06.94z\"/><path d=\"M17.41 7.96l-1.37-1.37c-.4-.4-.92-.59-1.43-.59-.52 0-1.04.2-1.43.59L10.3 9.45l-7.72 7.72c-.78.78-.78 2.05 0 2.83L4 21.41c.39.39.9.59 1.41.59.51 0 1.02-.2 1.41-.59l7.78-7.78 2.81-2.81c.8-.78.8-2.07 0-2.86zM5.41 20L4 18.59l7.72-7.72 1.47 1.35L5.41 20z\"/>\n",
              "  </svg>\n",
              "      </button>\n",
              "      \n",
              "  <style>\n",
              "    .colab-df-container {\n",
              "      display:flex;\n",
              "      flex-wrap:wrap;\n",
              "      gap: 12px;\n",
              "    }\n",
              "\n",
              "    .colab-df-convert {\n",
              "      background-color: #E8F0FE;\n",
              "      border: none;\n",
              "      border-radius: 50%;\n",
              "      cursor: pointer;\n",
              "      display: none;\n",
              "      fill: #1967D2;\n",
              "      height: 32px;\n",
              "      padding: 0 0 0 0;\n",
              "      width: 32px;\n",
              "    }\n",
              "\n",
              "    .colab-df-convert:hover {\n",
              "      background-color: #E2EBFA;\n",
              "      box-shadow: 0px 1px 2px rgba(60, 64, 67, 0.3), 0px 1px 3px 1px rgba(60, 64, 67, 0.15);\n",
              "      fill: #174EA6;\n",
              "    }\n",
              "\n",
              "    [theme=dark] .colab-df-convert {\n",
              "      background-color: #3B4455;\n",
              "      fill: #D2E3FC;\n",
              "    }\n",
              "\n",
              "    [theme=dark] .colab-df-convert:hover {\n",
              "      background-color: #434B5C;\n",
              "      box-shadow: 0px 1px 3px 1px rgba(0, 0, 0, 0.15);\n",
              "      filter: drop-shadow(0px 1px 2px rgba(0, 0, 0, 0.3));\n",
              "      fill: #FFFFFF;\n",
              "    }\n",
              "  </style>\n",
              "\n",
              "      <script>\n",
              "        const buttonEl =\n",
              "          document.querySelector('#df-e232b109-3e45-4890-b89c-ab26335fa4be button.colab-df-convert');\n",
              "        buttonEl.style.display =\n",
              "          google.colab.kernel.accessAllowed ? 'block' : 'none';\n",
              "\n",
              "        async function convertToInteractive(key) {\n",
              "          const element = document.querySelector('#df-e232b109-3e45-4890-b89c-ab26335fa4be');\n",
              "          const dataTable =\n",
              "            await google.colab.kernel.invokeFunction('convertToInteractive',\n",
              "                                                     [key], {});\n",
              "          if (!dataTable) return;\n",
              "\n",
              "          const docLinkHtml = 'Like what you see? Visit the ' +\n",
              "            '<a target=\"_blank\" href=https://colab.research.google.com/notebooks/data_table.ipynb>data table notebook</a>'\n",
              "            + ' to learn more about interactive tables.';\n",
              "          element.innerHTML = '';\n",
              "          dataTable['output_type'] = 'display_data';\n",
              "          await google.colab.output.renderOutput(dataTable, element);\n",
              "          const docLink = document.createElement('div');\n",
              "          docLink.innerHTML = docLinkHtml;\n",
              "          element.appendChild(docLink);\n",
              "        }\n",
              "      </script>\n",
              "    </div>\n",
              "  </div>\n",
              "  "
            ]
          },
          "metadata": {},
          "execution_count": 25
        }
      ]
    },
    {
      "cell_type": "markdown",
      "source": [
        "Model Lasso --> medv = 26.245 - 0.065 crim \n",
        "                + 0.019 zn - 0.034 indus \n",
        "                + 2.43 rm + 0.023 age - 0.542 dis \n",
        "                + 0.023 rad - 0.740 pratio \n",
        "                + 0.012 black - 0.723 istat\n",
        "\n",
        "interpret sample of coef:\n",
        "- indus --> one point increase in coef indus can decrease as much as 0.034 point to the model"
      ],
      "metadata": {
        "id": "9GsOeS0qqBbN"
      }
    },
    {
      "cell_type": "markdown",
      "source": [
        "Diagnostic study"
      ],
      "metadata": {
        "id": "bpBvjOPEDaB0"
      }
    },
    {
      "cell_type": "code",
      "source": [
        "#Ridge\n",
        "from sklearn.metrics import r2_score\n",
        "\n",
        "y_predict_train = ridge_best.predict(X_boston_train)\n",
        "\n",
        "print('R-squared for training data is {}'.format(r2_score(y_predict_train, y_boston_train)))"
      ],
      "metadata": {
        "colab": {
          "base_uri": "https://localhost:8080/"
        },
        "id": "ivPC6LGNDYq3",
        "outputId": "a5557281-6951-4516-fe34-4b34d01f7b50"
      },
      "execution_count": 26,
      "outputs": [
        {
          "output_type": "stream",
          "name": "stdout",
          "text": [
            "R-squared for training data is 0.6514757441957957\n"
          ]
        }
      ]
    },
    {
      "cell_type": "markdown",
      "source": [
        "From the ridge regression model, the r square indicates 65.1% combination of independent variables jointly affect (give contribution) to the value of the dependent variable."
      ],
      "metadata": {
        "id": "-APjKj5hq6Cy"
      }
    },
    {
      "cell_type": "code",
      "source": [
        "#Lasso\n",
        "from sklearn.metrics import r2_score\n",
        "\n",
        "y_predict_train = lasso_best.predict(X_boston_train)\n",
        "\n",
        "print('R-squared for training data is {}'.format(r2_score(y_predict_train, y_boston_train)))"
      ],
      "metadata": {
        "colab": {
          "base_uri": "https://localhost:8080/"
        },
        "id": "akMB9XY6DMvZ",
        "outputId": "c4e286c5-3259-4ff1-c1eb-5a582eeafb2a"
      },
      "execution_count": 19,
      "outputs": [
        {
          "output_type": "stream",
          "name": "stdout",
          "text": [
            "R-squared for training data is 0.5124895145511145\n"
          ]
        }
      ]
    },
    {
      "cell_type": "markdown",
      "source": [
        "From the lasso regression model, the r square indicates 51.2% combination of independent variables jointly affect (give contribution) to the value of the dependent variable."
      ],
      "metadata": {
        "id": "jHqy4D3Urjir"
      }
    },
    {
      "cell_type": "markdown",
      "source": [
        "Residual"
      ],
      "metadata": {
        "id": "GeXYL8W8DuC0"
      }
    },
    {
      "cell_type": "code",
      "source": [
        "# calculate residuals\n",
        "residual = y_boston_train - y_predict_train\n",
        "\n",
        "# prepare dataframe\n",
        "# 1 predictor --> predictor VS residual\n",
        "df_resid = pd.DataFrame({\n",
        "    'predicted_value': y_predict_train,\n",
        "    'residual': residual\n",
        "})\n",
        "\n",
        "# residual plot\n",
        "sns.scatterplot(data=df_resid, x=\"predicted_value\", y=\"residual\")\n",
        "plt.axhline(0)\n",
        "plt.show()"
      ],
      "metadata": {
        "colab": {
          "base_uri": "https://localhost:8080/",
          "height": 280
        },
        "id": "ojLReAmADvp4",
        "outputId": "f5391a22-5b3d-4231-ab7f-91f995e3a75b"
      },
      "execution_count": 20,
      "outputs": [
        {
          "output_type": "display_data",
          "data": {
            "text/plain": [
              "<Figure size 432x288 with 1 Axes>"
            ],
            "image/png": "[encoded data removed]"
          },
          "metadata": {
            "needs_background": "light"
          }
        }
      ]
    },
    {
      "cell_type": "markdown",
      "source": [
        "Training error"
      ],
      "metadata": {
        "id": "OUFHVwp_D7QU"
      }
    },
    {
      "cell_type": "code",
      "source": [
        "# prepare prediction result on train data\n",
        "y_predict_train = ridge_best.predict(X_boston_train)"
      ],
      "metadata": {
        "id": "U2PfqN0YD1-A"
      },
      "execution_count": 21,
      "outputs": []
    },
    {
      "cell_type": "code",
      "source": [
        "from sklearn.metrics import mean_squared_error\n",
        "from sklearn.metrics import mean_absolute_error\n",
        "from sklearn.metrics import mean_absolute_percentage_error\n",
        "\n",
        "print('RMSE for training data is {}'.format(np.sqrt(mean_squared_error(y_predict_train, y_boston_train))))\n",
        "print('MAE for training data is {}'.format(mean_absolute_error(y_predict_train, y_boston_train)))\n",
        "print('MAPE for training data is {}'.format(mean_absolute_percentage_error(y_predict_train, y_boston_train)))"
      ],
      "metadata": {
        "colab": {
          "base_uri": "https://localhost:8080/"
        },
        "id": "_JwlLss2D_dH",
        "outputId": "f08285c2-bb08-4dea-e227-0bcdb1a40af8"
      },
      "execution_count": 22,
      "outputs": [
        {
          "output_type": "stream",
          "name": "stdout",
          "text": [
            "RMSE for training data is 4.7987484241878375\n",
            "MAE for training data is 3.4193137443723653\n",
            "MAPE for training data is 0.214492480023241\n"
          ]
        }
      ]
    },
    {
      "cell_type": "markdown",
      "source": [
        "RMSE\n",
        "is 4.79 the square root of the average of square difference between the prediction and the actual observation\n",
        "\n",
        "MAE\n",
        "on average the predictions deviates the true medv 3.42\n",
        "\n",
        "MAPE\n",
        "on average, the predictions distance from the true value is 21.4% of the actual data (medv)"
      ],
      "metadata": {
        "id": "FgKcSO3rr4m3"
      }
    },
    {
      "cell_type": "markdown",
      "source": [
        "Testing error"
      ],
      "metadata": {
        "id": "MrblftI0EGwS"
      }
    },
    {
      "cell_type": "code",
      "source": [
        "# prepare prediction result on test data\n",
        "X_boston_test = feature_boston_test.to_numpy()\n",
        "y_predict_test = ridge_best.predict(X_boston_test)\n",
        "\n",
        "# ground truth target\n",
        "y_boston_test = target_boston_test.to_numpy()\n",
        "y_boston_test = y_boston_test.reshape(len(y_boston_test),)"
      ],
      "metadata": {
        "id": "dwalzsWXEIkf"
      },
      "execution_count": 23,
      "outputs": []
    },
    {
      "cell_type": "code",
      "source": [
        "from sklearn.metrics import mean_squared_error\n",
        "from sklearn.metrics import mean_absolute_error\n",
        "from sklearn.metrics import mean_absolute_percentage_error\n",
        "\n",
        "print('RMSE for testing data is {}'.format(np.sqrt(mean_squared_error(y_predict_test, y_boston_test))))\n",
        "print('MAE for testing data is {}'.format(mean_absolute_error(y_predict_test, y_boston_test)))\n",
        "print('MAPE for testing data is {}'.format(mean_absolute_percentage_error(y_predict_test, y_boston_test)))"
      ],
      "metadata": {
        "colab": {
          "base_uri": "https://localhost:8080/"
        },
        "id": "58-RoMoWENsZ",
        "outputId": "fb3f7b24-bf14-4763-f029-dcd81bb5dfdb"
      },
      "execution_count": 24,
      "outputs": [
        {
          "output_type": "stream",
          "name": "stdout",
          "text": [
            "RMSE for testing data is 5.149665041535447\n",
            "MAE for testing data is 3.2464116865140884\n",
            "MAPE for testing data is 0.2490353310066706\n"
          ]
        }
      ]
    },
    {
      "cell_type": "markdown",
      "source": [
        "RMSE\n",
        "is 5.14 the square root of the average of square difference between the prediction and the actual observation\n",
        "\n",
        "MAE\n",
        "on average the predictions deviates the true medv 3.24\n",
        "\n",
        "MAPE\n",
        "on average, the predictions distance from the true value is 24.9% of the actual data (medv)"
      ],
      "metadata": {
        "id": "G6yK2DWrty5d"
      }
    }
  ]
}